{
 "cells": [
  {
   "cell_type": "code",
   "execution_count": 1,
   "id": "d7773789",
   "metadata": {},
   "outputs": [],
   "source": [
    "#reference split_GEX_to_GEX-ATAC_VAE_dualOutput in WGE_mmJLSAE"
   ]
  },
  {
   "cell_type": "code",
   "execution_count": 2,
   "id": "cafcba3d",
   "metadata": {},
   "outputs": [],
   "source": [
    "#kernel = tf_gpu_ns\n",
    "\n",
    "#If failes, test seperate recon loss in linear model"
   ]
  },
  {
   "cell_type": "code",
   "execution_count": 3,
   "id": "8bfcf9be",
   "metadata": {},
   "outputs": [],
   "source": [
    "# !pip install scanpy\n",
    "import os\n",
    "import numpy as np\n",
    "import pandas as pd\n",
    "import time\n",
    "from scipy.stats import pearsonr\n",
    "import tensorflow as tf\n",
    "from tensorflow import keras\n",
    "from tensorflow.keras import layers\n",
    "from tensorflow.keras import Model\n",
    "from tensorflow.keras import backend as K\n",
    "# from keras.utils import plot_model\n",
    "from sklearn.model_selection import train_test_split\n",
    "from sklearn.metrics import mean_squared_error"
   ]
  },
  {
   "cell_type": "code",
   "execution_count": 4,
   "id": "00c6a5da",
   "metadata": {},
   "outputs": [],
   "source": [
    "import model"
   ]
  },
  {
   "cell_type": "code",
   "execution_count": 5,
   "id": "33dd2183",
   "metadata": {},
   "outputs": [],
   "source": [
    "# os.listdir('../DATA/')"
   ]
  },
  {
   "cell_type": "code",
   "execution_count": 6,
   "id": "88b0eb27",
   "metadata": {},
   "outputs": [
    {
     "name": "stdout",
     "output_type": "stream",
     "text": [
      "(5220, 824)\n"
     ]
    }
   ],
   "source": [
    "gex_input_df=pd.read_csv('../DATA/gex_input_824_hvf.csv.gz').set_index('Unnamed: 0')\n",
    "print(gex_input_df.shape)\n",
    "gex_data = gex_input_df\n",
    "# gex_tensor = tf.convert_to_tensor(gex_data, dtype=tf.float32)"
   ]
  },
  {
   "cell_type": "code",
   "execution_count": 7,
   "id": "1e747a4c",
   "metadata": {},
   "outputs": [
    {
     "name": "stdout",
     "output_type": "stream",
     "text": [
      "(5220, 3024)\n"
     ]
    }
   ],
   "source": [
    "atac_input_df=pd.read_csv('../DATA/atac_input_3024_hvf.csv.gz').set_index('Unnamed: 0')\n",
    "print(atac_input_df.shape)\n",
    "atac_data = atac_input_df"
   ]
  },
  {
   "cell_type": "code",
   "execution_count": 8,
   "id": "56590829",
   "metadata": {},
   "outputs": [],
   "source": [
    "# for step,batch in enumerate(gex_data):\n",
    "#     print(step)\n",
    "#     break"
   ]
  },
  {
   "cell_type": "code",
   "execution_count": null,
   "id": "fd4175e9",
   "metadata": {},
   "outputs": [],
   "source": []
  },
  {
   "cell_type": "code",
   "execution_count": 9,
   "id": "87ddace4",
   "metadata": {},
   "outputs": [
    {
     "name": "stdout",
     "output_type": "stream",
     "text": [
      "(4176, 824)\n",
      "(1044, 824)\n",
      "(4176, 824)\n",
      "(1044, 824)\n"
     ]
    }
   ],
   "source": [
    "X_train_left, X_test_left, y_train_left, y_test_left = train_test_split(gex_data, gex_data, test_size=0.2, random_state=42,shuffle=True)\n",
    "print(X_train_left.shape)\n",
    "print(X_test_left.shape)\n",
    "print(y_train_left.shape)\n",
    "print(y_test_left.shape)"
   ]
  },
  {
   "cell_type": "code",
   "execution_count": 10,
   "id": "3831f3e3",
   "metadata": {},
   "outputs": [
    {
     "name": "stdout",
     "output_type": "stream",
     "text": [
      "(4176, 3024)\n",
      "(1044, 3024)\n",
      "(4176, 3024)\n",
      "(1044, 3024)\n"
     ]
    }
   ],
   "source": [
    "X_train_right=atac_data.loc[X_train_left.index]\n",
    "X_test_right=atac_data.loc[X_test_left.index]\n",
    "y_train_right=atac_data.loc[y_train_left.index]\n",
    "y_test_right=atac_data.loc[y_test_left.index]\n",
    "print(X_train_right.shape)\n",
    "print(X_test_right.shape)\n",
    "print(y_train_right.shape)\n",
    "print(y_test_right.shape)"
   ]
  },
  {
   "cell_type": "code",
   "execution_count": 11,
   "id": "cea2a057",
   "metadata": {},
   "outputs": [],
   "source": [
    "# gex_data"
   ]
  },
  {
   "cell_type": "code",
   "execution_count": 12,
   "id": "0eb1ac80",
   "metadata": {},
   "outputs": [],
   "source": [
    "###HERES where to set up the train enumerate\n",
    "batch_size=256\n",
    "\n",
    "train_dataset_left=tf.data.Dataset.from_tensor_slices(X_train_left)\n",
    "train_dataset_left = train_dataset_left.shuffle(buffer_size=1024).batch(batch_size)\n",
    "\n",
    "test_dataset_left = tf.data.Dataset.from_tensor_slices(X_test_left)\n",
    "test_dataset_left = test_dataset_left.batch(batch_size)"
   ]
  },
  {
   "cell_type": "code",
   "execution_count": 13,
   "id": "00f6babd",
   "metadata": {},
   "outputs": [],
   "source": [
    "###HERES where to set up the train enumerate\n",
    "batch_size=256\n",
    "\n",
    "train_dataset_right=tf.data.Dataset.from_tensor_slices(X_train_right)\n",
    "train_dataset_right = train_dataset_right.shuffle(buffer_size=1024).batch(batch_size)\n",
    "\n",
    "test_dataset_right = tf.data.Dataset.from_tensor_slices(X_test_right)\n",
    "test_dataset_right = test_dataset_right.batch(batch_size)"
   ]
  },
  {
   "cell_type": "code",
   "execution_count": 14,
   "id": "5ef3c62b",
   "metadata": {},
   "outputs": [],
   "source": [
    "# for step,batch in enumerate(train_dataset):\n",
    "#     print(step)\n",
    "#     break\n",
    "# batch"
   ]
  },
  {
   "cell_type": "code",
   "execution_count": 16,
   "id": "f76897d0",
   "metadata": {},
   "outputs": [],
   "source": [
    "vae=model.VAE(X_train_left.shape[1],epochs=3000)\n"
   ]
  },
  {
   "cell_type": "code",
   "execution_count": 18,
   "id": "feff0add",
   "metadata": {},
   "outputs": [
    {
     "data": {
      "text/plain": [
       "16.3125"
      ]
     },
     "execution_count": 18,
     "metadata": {},
     "output_type": "execute_result"
    }
   ],
   "source": [
    "len(X_train_left)/batch_size"
   ]
  },
  {
   "cell_type": "code",
   "execution_count": 20,
   "id": "716eafb3",
   "metadata": {},
   "outputs": [
    {
     "name": "stdout",
     "output_type": "stream",
     "text": [
      "\n",
      "Start of epoch 0\n"
     ]
    },
    {
     "ename": "InvalidArgumentError",
     "evalue": "required broadcastable shapes [Op:Sub]",
     "output_type": "error",
     "traceback": [
      "\u001b[1;31m---------------------------------------------------------------------------\u001b[0m",
      "\u001b[1;31mInvalidArgumentError\u001b[0m                      Traceback (most recent call last)",
      "Cell \u001b[1;32mIn[20], line 1\u001b[0m\n\u001b[1;32m----> 1\u001b[0m \u001b[43mvae\u001b[49m\u001b[38;5;241;43m.\u001b[39;49m\u001b[43mtrain_vae\u001b[49m\u001b[43m(\u001b[49m\u001b[43mtrain_dataset_left\u001b[49m\u001b[43m,\u001b[49m\u001b[43mtrain_dataset_right\u001b[49m\u001b[43m,\u001b[49m\u001b[43mtest_dataset_left\u001b[49m\u001b[43m,\u001b[49m\u001b[43mtest_dataset_right\u001b[49m\u001b[43m)\u001b[49m\n",
      "File \u001b[1;32m~\\Documents\\GitHub\\Single-Cell-Epigenomic-and-Transcriptomic-Deep-Learning\\Split_Cross-Modality_Impute\\model.py:101\u001b[0m, in \u001b[0;36mVAE.train_vae\u001b[1;34m(self, train_dataset_left, train_dataset_right, test_dataset_left, test_dataset_right)\u001b[0m\n\u001b[0;32m     99\u001b[0m         latent \u001b[38;5;241m=\u001b[39m \u001b[38;5;28mself\u001b[39m\u001b[38;5;241m.\u001b[39msampler([\u001b[38;5;28mself\u001b[39m\u001b[38;5;241m.\u001b[39mmu, \u001b[38;5;28mself\u001b[39m\u001b[38;5;241m.\u001b[39msigma])\n\u001b[0;32m    100\u001b[0m         logits_left,logits_right\u001b[38;5;241m=\u001b[39m\u001b[38;5;28mself\u001b[39m\u001b[38;5;241m.\u001b[39mdecoder(latent, training\u001b[38;5;241m=\u001b[39m\u001b[38;5;28;01mTrue\u001b[39;00m)\n\u001b[1;32m--> 101\u001b[0m         loss_value \u001b[38;5;241m=\u001b[39m \u001b[38;5;28;43mself\u001b[39;49m\u001b[38;5;241;43m.\u001b[39;49m\u001b[43mvae_loss\u001b[49m\u001b[43m(\u001b[49m\u001b[43mx_batch_train_left\u001b[49m\u001b[43m,\u001b[49m\u001b[43m \u001b[49m\u001b[43mlogits_left\u001b[49m\u001b[43m,\u001b[49m\u001b[43m \u001b[49m\u001b[43mx_batch_train_right\u001b[49m\u001b[43m,\u001b[49m\u001b[43m \u001b[49m\u001b[43mlogits_right\u001b[49m\u001b[43m)\u001b[49m\n\u001b[0;32m    102\u001b[0m         \u001b[38;5;66;03m# print(loss_value.shape)\u001b[39;00m\n\u001b[0;32m    103\u001b[0m encoder_grads \u001b[38;5;241m=\u001b[39m encoder_tape\u001b[38;5;241m.\u001b[39mgradient(loss_value, \u001b[38;5;28mself\u001b[39m\u001b[38;5;241m.\u001b[39mencoder\u001b[38;5;241m.\u001b[39mtrainable_weights)\n",
      "File \u001b[1;32m~\\Documents\\GitHub\\Single-Cell-Epigenomic-and-Transcriptomic-Deep-Learning\\Split_Cross-Modality_Impute\\model.py:68\u001b[0m, in \u001b[0;36mVAE.vae_loss\u001b[1;34m(self, y_true_left, y_pred_left, y_true_right, y_pred_right)\u001b[0m\n\u001b[0;32m     66\u001b[0m squared_error_left \u001b[38;5;241m=\u001b[39m tf\u001b[38;5;241m.\u001b[39mmath\u001b[38;5;241m.\u001b[39msquare(tf\u001b[38;5;241m.\u001b[39mmath\u001b[38;5;241m.\u001b[39msubtract(tf\u001b[38;5;241m.\u001b[39mcast(y_true_left, tf\u001b[38;5;241m.\u001b[39mfloat64), tf\u001b[38;5;241m.\u001b[39mcast(y_pred_left, tf\u001b[38;5;241m.\u001b[39mfloat64)))\n\u001b[0;32m     67\u001b[0m recon_left \u001b[38;5;241m=\u001b[39m squared_error_left\n\u001b[1;32m---> 68\u001b[0m squared_error_right \u001b[38;5;241m=\u001b[39m tf\u001b[38;5;241m.\u001b[39mmath\u001b[38;5;241m.\u001b[39msquare(\u001b[43mtf\u001b[49m\u001b[38;5;241;43m.\u001b[39;49m\u001b[43mmath\u001b[49m\u001b[38;5;241;43m.\u001b[39;49m\u001b[43msubtract\u001b[49m\u001b[43m(\u001b[49m\u001b[43mtf\u001b[49m\u001b[38;5;241;43m.\u001b[39;49m\u001b[43mcast\u001b[49m\u001b[43m(\u001b[49m\u001b[43my_true_right\u001b[49m\u001b[43m,\u001b[49m\u001b[43m \u001b[49m\u001b[43mtf\u001b[49m\u001b[38;5;241;43m.\u001b[39;49m\u001b[43mfloat64\u001b[49m\u001b[43m)\u001b[49m\u001b[43m,\u001b[49m\u001b[43m \u001b[49m\u001b[43mtf\u001b[49m\u001b[38;5;241;43m.\u001b[39;49m\u001b[43mcast\u001b[49m\u001b[43m(\u001b[49m\u001b[43my_pred_right\u001b[49m\u001b[43m,\u001b[49m\u001b[43m \u001b[49m\u001b[43mtf\u001b[49m\u001b[38;5;241;43m.\u001b[39;49m\u001b[43mfloat64\u001b[49m\u001b[43m)\u001b[49m\u001b[43m)\u001b[49m)\n\u001b[0;32m     69\u001b[0m recon_right \u001b[38;5;241m=\u001b[39m squared_error_right\n\u001b[0;32m     70\u001b[0m kl \u001b[38;5;241m=\u001b[39m K\u001b[38;5;241m.\u001b[39mmean(\u001b[38;5;241m0.5\u001b[39m\u001b[38;5;241m*\u001b[39mK\u001b[38;5;241m.\u001b[39msum(K\u001b[38;5;241m.\u001b[39mexp(\u001b[38;5;28mself\u001b[39m\u001b[38;5;241m.\u001b[39msigma) \u001b[38;5;241m+\u001b[39m K\u001b[38;5;241m.\u001b[39msquare(\u001b[38;5;28mself\u001b[39m\u001b[38;5;241m.\u001b[39mmu) \u001b[38;5;241m-\u001b[39m \u001b[38;5;241m1.\u001b[39m \u001b[38;5;241m-\u001b[39m \u001b[38;5;28mself\u001b[39m\u001b[38;5;241m.\u001b[39msigma, axis\u001b[38;5;241m=\u001b[39m\u001b[38;5;241m1\u001b[39m))\n",
      "File \u001b[1;32m~\\.conda\\envs\\tf_gpu_ns\\lib\\site-packages\\tensorflow\\python\\util\\dispatch.py:206\u001b[0m, in \u001b[0;36madd_dispatch_support.<locals>.wrapper\u001b[1;34m(*args, **kwargs)\u001b[0m\n\u001b[0;32m    204\u001b[0m \u001b[38;5;250m\u001b[39m\u001b[38;5;124;03m\"\"\"Call target, and fall back on dispatchers if there is a TypeError.\"\"\"\u001b[39;00m\n\u001b[0;32m    205\u001b[0m \u001b[38;5;28;01mtry\u001b[39;00m:\n\u001b[1;32m--> 206\u001b[0m   \u001b[38;5;28;01mreturn\u001b[39;00m target(\u001b[38;5;241m*\u001b[39margs, \u001b[38;5;241m*\u001b[39m\u001b[38;5;241m*\u001b[39mkwargs)\n\u001b[0;32m    207\u001b[0m \u001b[38;5;28;01mexcept\u001b[39;00m (\u001b[38;5;167;01mTypeError\u001b[39;00m, \u001b[38;5;167;01mValueError\u001b[39;00m):\n\u001b[0;32m    208\u001b[0m   \u001b[38;5;66;03m# Note: convert_to_eager_tensor currently raises a ValueError, not a\u001b[39;00m\n\u001b[0;32m    209\u001b[0m   \u001b[38;5;66;03m# TypeError, when given unexpected types.  So we need to catch both.\u001b[39;00m\n\u001b[0;32m    210\u001b[0m   result \u001b[38;5;241m=\u001b[39m dispatch(wrapper, args, kwargs)\n",
      "File \u001b[1;32m~\\.conda\\envs\\tf_gpu_ns\\lib\\site-packages\\tensorflow\\python\\ops\\math_ops.py:548\u001b[0m, in \u001b[0;36msubtract\u001b[1;34m(x, y, name)\u001b[0m\n\u001b[0;32m    545\u001b[0m \u001b[38;5;129m@tf_export\u001b[39m(\u001b[38;5;124m\"\u001b[39m\u001b[38;5;124mmath.subtract\u001b[39m\u001b[38;5;124m\"\u001b[39m, \u001b[38;5;124m\"\u001b[39m\u001b[38;5;124msubtract\u001b[39m\u001b[38;5;124m\"\u001b[39m)\n\u001b[0;32m    546\u001b[0m \u001b[38;5;129m@dispatch\u001b[39m\u001b[38;5;241m.\u001b[39madd_dispatch_support\n\u001b[0;32m    547\u001b[0m \u001b[38;5;28;01mdef\u001b[39;00m \u001b[38;5;21msubtract\u001b[39m(x, y, name\u001b[38;5;241m=\u001b[39m\u001b[38;5;28;01mNone\u001b[39;00m):\n\u001b[1;32m--> 548\u001b[0m   \u001b[38;5;28;01mreturn\u001b[39;00m \u001b[43mgen_math_ops\u001b[49m\u001b[38;5;241;43m.\u001b[39;49m\u001b[43msub\u001b[49m\u001b[43m(\u001b[49m\u001b[43mx\u001b[49m\u001b[43m,\u001b[49m\u001b[43m \u001b[49m\u001b[43my\u001b[49m\u001b[43m,\u001b[49m\u001b[43m \u001b[49m\u001b[43mname\u001b[49m\u001b[43m)\u001b[49m\n",
      "File \u001b[1;32m~\\.conda\\envs\\tf_gpu_ns\\lib\\site-packages\\tensorflow\\python\\ops\\gen_math_ops.py:10643\u001b[0m, in \u001b[0;36msub\u001b[1;34m(x, y, name)\u001b[0m\n\u001b[0;32m  10641\u001b[0m   \u001b[38;5;28;01mreturn\u001b[39;00m _result\n\u001b[0;32m  10642\u001b[0m \u001b[38;5;28;01mexcept\u001b[39;00m _core\u001b[38;5;241m.\u001b[39m_NotOkStatusException \u001b[38;5;28;01mas\u001b[39;00m e:\n\u001b[1;32m> 10643\u001b[0m   \u001b[43m_ops\u001b[49m\u001b[38;5;241;43m.\u001b[39;49m\u001b[43mraise_from_not_ok_status\u001b[49m\u001b[43m(\u001b[49m\u001b[43me\u001b[49m\u001b[43m,\u001b[49m\u001b[43m \u001b[49m\u001b[43mname\u001b[49m\u001b[43m)\u001b[49m\n\u001b[0;32m  10644\u001b[0m \u001b[38;5;28;01mexcept\u001b[39;00m _core\u001b[38;5;241m.\u001b[39m_FallbackException:\n\u001b[0;32m  10645\u001b[0m   \u001b[38;5;28;01mpass\u001b[39;00m\n",
      "File \u001b[1;32m~\\.conda\\envs\\tf_gpu_ns\\lib\\site-packages\\tensorflow\\python\\framework\\ops.py:6941\u001b[0m, in \u001b[0;36mraise_from_not_ok_status\u001b[1;34m(e, name)\u001b[0m\n\u001b[0;32m   6939\u001b[0m message \u001b[38;5;241m=\u001b[39m e\u001b[38;5;241m.\u001b[39mmessage \u001b[38;5;241m+\u001b[39m (\u001b[38;5;124m\"\u001b[39m\u001b[38;5;124m name: \u001b[39m\u001b[38;5;124m\"\u001b[39m \u001b[38;5;241m+\u001b[39m name \u001b[38;5;28;01mif\u001b[39;00m name \u001b[38;5;129;01mis\u001b[39;00m \u001b[38;5;129;01mnot\u001b[39;00m \u001b[38;5;28;01mNone\u001b[39;00m \u001b[38;5;28;01melse\u001b[39;00m \u001b[38;5;124m\"\u001b[39m\u001b[38;5;124m\"\u001b[39m)\n\u001b[0;32m   6940\u001b[0m \u001b[38;5;66;03m# pylint: disable=protected-access\u001b[39;00m\n\u001b[1;32m-> 6941\u001b[0m \u001b[43msix\u001b[49m\u001b[38;5;241;43m.\u001b[39;49m\u001b[43mraise_from\u001b[49m\u001b[43m(\u001b[49m\u001b[43mcore\u001b[49m\u001b[38;5;241;43m.\u001b[39;49m\u001b[43m_status_to_exception\u001b[49m\u001b[43m(\u001b[49m\u001b[43me\u001b[49m\u001b[38;5;241;43m.\u001b[39;49m\u001b[43mcode\u001b[49m\u001b[43m,\u001b[49m\u001b[43m \u001b[49m\u001b[43mmessage\u001b[49m\u001b[43m)\u001b[49m\u001b[43m,\u001b[49m\u001b[43m \u001b[49m\u001b[38;5;28;43;01mNone\u001b[39;49;00m\u001b[43m)\u001b[49m\n",
      "File \u001b[1;32m<string>:3\u001b[0m, in \u001b[0;36mraise_from\u001b[1;34m(value, from_value)\u001b[0m\n",
      "\u001b[1;31mInvalidArgumentError\u001b[0m: required broadcastable shapes [Op:Sub]"
     ]
    }
   ],
   "source": [
    "vae.train_vae(train_dataset_left,train_dataset_right,test_dataset_left,test_dataset_right)"
   ]
  },
  {
   "cell_type": "code",
   "execution_count": 11,
   "id": "c3fb84b7",
   "metadata": {},
   "outputs": [],
   "source": [
    "predictions = vae.predict(X_test)"
   ]
  },
  {
   "cell_type": "code",
   "execution_count": 13,
   "id": "664e5d85",
   "metadata": {},
   "outputs": [
    {
     "name": "stdout",
     "output_type": "stream",
     "text": [
      "0.4192012463737262\n",
      "0.8049319311028287\n"
     ]
    }
   ],
   "source": [
    "vae.correlation_accuracy(X_test.to_numpy())\n",
    "# vae.mse_error(X_train)\n",
    "vae.mse_error(X_test.to_numpy())"
   ]
  },
  {
   "cell_type": "code",
   "execution_count": 14,
   "id": "e81d6204",
   "metadata": {},
   "outputs": [],
   "source": [
    "predictions=pd.DataFrame(predictions,columns=X_test.columns,index=X_test.index)\n",
    "predictions.to_csv('DATA/custom824_pred.csv.gz')"
   ]
  },
  {
   "cell_type": "code",
   "execution_count": 15,
   "id": "5bcefaac",
   "metadata": {},
   "outputs": [
    {
     "data": {
      "image/png": "[encoded data removed]",
      "text/plain": [
       "<IPython.core.display.Image object>"
      ]
     },
     "execution_count": 15,
     "metadata": {},
     "output_type": "execute_result"
    }
   ],
   "source": [
    "plot_model(vae.encoder)\n"
   ]
  },
  {
   "cell_type": "code",
   "execution_count": 16,
   "id": "5620fc09",
   "metadata": {},
   "outputs": [
    {
     "data": {
      "image/png": "[encoded data removed]",
      "text/plain": [
       "<IPython.core.display.Image object>"
      ]
     },
     "execution_count": 16,
     "metadata": {},
     "output_type": "execute_result"
    }
   ],
   "source": [
    "plot_model(vae.sampler)"
   ]
  },
  {
   "cell_type": "code",
   "execution_count": 17,
   "id": "00e08c62",
   "metadata": {},
   "outputs": [
    {
     "data": {
      "image/png": "[encoded data removed]",
      "text/plain": [
       "<IPython.core.display.Image object>"
      ]
     },
     "execution_count": 17,
     "metadata": {},
     "output_type": "execute_result"
    }
   ],
   "source": [
    "plot_model(vae.decoder)"
   ]
  },
  {
   "cell_type": "code",
   "execution_count": 18,
   "id": "0b5c55e7",
   "metadata": {},
   "outputs": [
    {
     "name": "stdout",
     "output_type": "stream",
     "text": [
      "Encoder Summary:\n",
      "Model: \"encoder\"\n",
      "__________________________________________________________________________________________________\n",
      "Layer (type)                    Output Shape         Param #     Connected to                     \n",
      "==================================================================================================\n",
      "mC_input (InputLayer)           [(None, 824)]        0                                            \n",
      "__________________________________________________________________________________________________\n",
      "dense1 (Dense)                  (None, 128)          105600      mC_input[0][0]                   \n",
      "__________________________________________________________________________________________________\n",
      "dense2 (Dense)                  (None, 64)           8256        dense1[0][0]                     \n",
      "__________________________________________________________________________________________________\n",
      "dense (Dense)                   (None, 32)           2080        dense2[0][0]                     \n",
      "__________________________________________________________________________________________________\n",
      "dense_1 (Dense)                 (None, 32)           2080        dense2[0][0]                     \n",
      "==================================================================================================\n",
      "Total params: 118,016\n",
      "Trainable params: 118,016\n",
      "Non-trainable params: 0\n",
      "__________________________________________________________________________________________________\n",
      "\n",
      "Sampler Summary:\n",
      "Model: \"sampler\"\n",
      "__________________________________________________________________________________________________\n",
      "Layer (type)                    Output Shape         Param #     Connected to                     \n",
      "==================================================================================================\n",
      "input_1 (InputLayer)            [(None, 32)]         0                                            \n",
      "__________________________________________________________________________________________________\n",
      "input_2 (InputLayer)            [(None, 32)]         0                                            \n",
      "__________________________________________________________________________________________________\n",
      "lambda (Lambda)                 (None, 32)           0           input_1[0][0]                    \n",
      "                                                                 input_2[0][0]                    \n",
      "==================================================================================================\n",
      "Total params: 0\n",
      "Trainable params: 0\n",
      "Non-trainable params: 0\n",
      "__________________________________________________________________________________________________\n",
      "\n",
      "Decoder Summary:\n",
      "Model: \"decoder\"\n",
      "_________________________________________________________________\n",
      "Layer (type)                 Output Shape              Param #   \n",
      "=================================================================\n",
      "input_3 (InputLayer)         [(None, 32)]              0         \n",
      "_________________________________________________________________\n",
      "out_pred (Dense)             (None, 824)               27192     \n",
      "=================================================================\n",
      "Total params: 27,192\n",
      "Trainable params: 27,192\n",
      "Non-trainable params: 0\n",
      "_________________________________________________________________\n"
     ]
    }
   ],
   "source": [
    "vae.model_summary()"
   ]
  }
 ],
 "metadata": {
  "kernelspec": {
   "display_name": "Python [conda env:.conda-tf_gpu_ns]",
   "language": "python",
   "name": "conda-env-.conda-tf_gpu_ns-py"
  },
  "language_info": {
   "codemirror_mode": {
    "name": "ipython",
    "version": 3
   },
   "file_extension": ".py",
   "mimetype": "text/x-python",
   "name": "python",
   "nbconvert_exporter": "python",
   "pygments_lexer": "ipython3",
   "version": "3.9.15"
  }
 },
 "nbformat": 4,
 "nbformat_minor": 5
}
